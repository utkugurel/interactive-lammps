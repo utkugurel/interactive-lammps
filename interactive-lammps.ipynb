{
 "cells": [
  {
   "cell_type": "markdown",
   "id": "ab4d7971-ec80-4cb2-88c1-6c1bc5856e0c",
   "metadata": {},
   "source": [
    "## Interactive lammps"
   ]
  },
  {
   "cell_type": "code",
   "execution_count": 1,
   "id": "f5478910-34e0-4419-bd26-b741a495ac7b",
   "metadata": {},
   "outputs": [],
   "source": [
    "from lammps import PyLammps"
   ]
  },
  {
   "cell_type": "code",
   "execution_count": 2,
   "id": "548244a8-68cf-4170-a259-c7fdff11437e",
   "metadata": {},
   "outputs": [
    {
     "name": "stdout",
     "output_type": "stream",
     "text": [
      "LAMMPS (3 Mar 2020)\n",
      "OMP_NUM_THREADS environment is not set. Defaulting to 1 thread. (src/comm.cpp:94)\n",
      "  using 1 OpenMP thread(s) per MPI task\n",
      "LAMMPS output is captured by PyLammps wrapper\n"
     ]
    }
   ],
   "source": [
    "L = PyLammps()"
   ]
  },
  {
   "cell_type": "markdown",
   "id": "7af24b13-5eb0-4b97-843c-c76ade5dde4c",
   "metadata": {},
   "source": [
    "####  SET SIMULATION CONDITIONS"
   ]
  },
  {
   "cell_type": "code",
   "execution_count": 3,
   "id": "e97bbbfa-ea79-40e2-8944-b6b23f9bcd55",
   "metadata": {},
   "outputs": [],
   "source": [
    "L.command(\"units lj\")\n",
    "L.command(\"atom_style full\")\n",
    "L.command(\"pair_style lj/cut 2.5\")\n",
    "L.command(\"bond_style harmonic\")\n",
    "L.command(\"special_bonds fene\")\n",
    "\n",
    "L.command(\"dimension 3\")\n",
    "L.command(\"boundary p p p\")\n",
    "L.command(\"neighbor 0.8 bin\")"
   ]
  },
  {
   "cell_type": "code",
   "execution_count": 4,
   "id": "89335ce7-cfca-46c3-8197-c2922f951a62",
   "metadata": {},
   "outputs": [
    {
     "name": "stdout",
     "output_type": "stream",
     "text": [
      "Reading data file ...\n",
      "  orthogonal box = (-21.1659 -21.1659 -2.71938) to (21.1659 21.1659 3.35194)\n",
      "  1 by 1 by 1 MPI processor grid\n",
      "  reading atoms ...\n",
      "  7776 atoms\n",
      "  reading velocities ...\n",
      "  7776 velocities\n",
      "  scanning bonds ...\n",
      "  2 = max bonds/atom\n",
      "  reading bonds ...\n",
      "  7680 bonds\n",
      "Finding 1-2 1-3 1-4 neighbors ...\n",
      "  special bond factors lj:   0          1          1         \n",
      "  special bond factors coul: 0          1          1         \n",
      "  8 = max # of 1-2 neighbors\n",
      "  8 = max # of special neighbors\n",
      "  special bonds CPU = 0.00145888 secs\n",
      "  read_data CPU = 0.02792 secs\n"
     ]
    }
   ],
   "source": [
    "L.command('read_data lipit.data')"
   ]
  },
  {
   "cell_type": "code",
   "execution_count": 5,
   "id": "c05ecf3c-ec4f-4f1c-9fdb-0f9ffbe6c0cf",
   "metadata": {},
   "outputs": [
    {
     "name": "stdout",
     "output_type": "stream",
     "text": [
      "Changing box ...\n"
     ]
    }
   ],
   "source": [
    "L.command('change_box all boundary p p f')"
   ]
  },
  {
   "cell_type": "code",
   "execution_count": 6,
   "id": "6b05af9f-b4b3-4090-986b-af184a3abab6",
   "metadata": {},
   "outputs": [
    {
     "name": "stdout",
     "output_type": "stream",
     "text": [
      "Changing box ...\n",
      "  orthogonal box = (-21.1659 -21.1659 -42.7194) to (21.1659 21.1659 23.3519)\n"
     ]
    }
   ],
   "source": [
    "L.command('change_box all z delta -40.0 20.0 units box')"
   ]
  },
  {
   "cell_type": "markdown",
   "id": "969ec2cb-9f25-40c8-811f-9e7c9183f4e4",
   "metadata": {},
   "source": [
    "####  DEFINE VARIABLES"
   ]
  },
  {
   "cell_type": "code",
   "execution_count": 7,
   "id": "a3bd825f-0b28-4d4f-b57a-1ab007442cbc",
   "metadata": {},
   "outputs": [],
   "source": [
    "L.command('variable velocityBullet equal -2')\n",
    "L.command('variable radiusBullet equal 5')\n",
    "L.command('variable hBullet equal 5+${radiusBullet}')"
   ]
  },
  {
   "cell_type": "markdown",
   "id": "d69a10a8-ec77-43e7-9cc4-91d8beac874b",
   "metadata": {},
   "source": [
    "#### CHOOSE THERMODYNAMIC OUTPUT"
   ]
  },
  {
   "cell_type": "code",
   "execution_count": 8,
   "id": "10c0e8cb-004d-44a9-afac-5ed212ae9527",
   "metadata": {},
   "outputs": [],
   "source": [
    "L.command('thermo  200')\n",
    "L.command('thermo_style    custom step temp press ebond epair ke')"
   ]
  },
  {
   "cell_type": "markdown",
   "id": "28a34f7f-016a-4169-b93e-620be1dd7d03",
   "metadata": {},
   "source": [
    "#### CLAMP BOUNDARIES OF THE FILM"
   ]
  },
  {
   "cell_type": "code",
   "execution_count": 9,
   "id": "6b9a39b4-dd8e-46f5-9a62-ae6db973029d",
   "metadata": {},
   "outputs": [
    {
     "name": "stdout",
     "output_type": "stream",
     "text": [
      "5448 atoms in group hole\n",
      "7776 atoms in group film\n",
      "2328 atoms in group base\n"
     ]
    }
   ],
   "source": [
    "L.command('region hole cylinder z 0 0 20 -10.0 10.0 side in units box')\n",
    "L.command('group hole region hole')\n",
    "L.command('group film type 1 2')\n",
    "L.command('group base subtract film hole')\n",
    "\n",
    "L.command('fix nailed base setforce 0.0 0.0 0.0')\n",
    "L.command('velocity base set 0.0 0.0 0.0 units box')\n",
    "L.command('velocity hole create 0.1 239472')"
   ]
  },
  {
   "cell_type": "markdown",
   "id": "517628d8-7508-4be3-87b1-06158a938306",
   "metadata": {},
   "source": [
    "#### CREATE BULLET ABOVE THE FILM"
   ]
  },
  {
   "cell_type": "code",
   "execution_count": 10,
   "id": "62498fc2-3458-4380-92db-18776bce8442",
   "metadata": {},
   "outputs": [
    {
     "name": "stdout",
     "output_type": "stream",
     "text": [
      "Lattice spacing in x,y,z = 1.03574 1.03574 1.03574\n",
      "Created 3760 atoms\n",
      "  create_atoms CPU = 0.00249219 secs\n",
      "3760 atoms in group indent\n",
      "1 rigid bodies with 3760 atoms\n",
      "WARNING: Changing velocities of atoms in rigid bodies. This has no effect unless rigid bodies are rebuild (src/velocity.cpp:71)\n"
     ]
    }
   ],
   "source": [
    "L.command('lattice diamond 7.2')\n",
    "L.command('region 1 sphere 0 0 ${hBullet} ${radiusBullet} side in units box')\n",
    "L.command('create_atoms 3 region 1 units box')\n",
    "L.command('group indent type 3')\n",
    "L.command('neigh_modify exclude group indent indent')\n",
    "L.command('fix 1 indent rigid single')\n",
    "L.command('velocity indent set 0.0 0.0 -2 units box')"
   ]
  },
  {
   "cell_type": "markdown",
   "id": "06447a81-0431-4702-a835-2f076e6aa0c6",
   "metadata": {},
   "source": [
    "#### SHOOT!"
   ]
  },
  {
   "cell_type": "code",
   "execution_count": 11,
   "id": "b267f891-ed24-4cd7-badf-c873af5cab58",
   "metadata": {},
   "outputs": [
    {
     "name": "stdout",
     "output_type": "stream",
     "text": [
      "Neighbor list info ...\n",
      "  update every 1 steps, delay 10 steps, check yes\n",
      "  max neighbors/atom: 2000, page size: 100000\n",
      "  master list distance cutoff = 3.3\n",
      "  ghost atom cutoff = 3.3\n",
      "  binsize = 1.65, bins = 26 26 41\n",
      "  1 neighbor lists, perpetual/occasional/extra = 1 0 0\n",
      "  (1) pair lj/cut, perpetual\n",
      "      attributes: half, newton on\n",
      "      pair build: half/bin/newton\n",
      "      stencil: half/bin/3d/newton\n",
      "      bin: standard\n",
      "Setting up Verlet run ...\n",
      "  Unit style    : lj\n",
      "  Current step  : 0\n",
      "  Time step     : 0.005\n",
      "Per MPI rank memory allocation (min/avg/max) = 15.06 | 15.06 | 15.06 Mbytes\n",
      "Step Temp Press E_bond E_pair KinEng \n",
      "       0   0.71467575  0.045966277  0.033376706    -3.913345   0.72269851 \n",
      "     200    0.7146774  0.043336522  0.035016071    -3.915117   0.72270017 \n",
      "     400   0.72956468  0.066344152  0.035528484   -3.9393562   0.73775458 \n",
      "     600   0.72372256  0.046115457  0.040826199   -3.9472678   0.73184687 \n",
      "     800   0.72351932  0.056048598  0.043344244   -3.9546738   0.73164135 \n",
      "    1000   0.71520528  0.024905755  0.046247248   -3.9523528   0.72323398 \n",
      "    1200   0.71470094  0.014270207  0.047389868    -3.955361   0.72272398 \n",
      "    1400   0.70137992 -0.015740404   0.05033381   -3.9463643   0.70925342 \n",
      "    1600   0.69031269 0.00021586462   0.05542132   -3.9420768   0.69806196 \n",
      "    1800   0.66236739 -0.0012700801  0.057223767   -3.9140092   0.66980295 \n",
      "    2000   0.64998072 -0.020179194  0.061295885   -3.9054972   0.65727722 \n",
      "    2200    0.6275283 -0.031203838  0.063470486    -3.883918   0.63457276 \n",
      "    2400   0.60401723 -0.029207908  0.064711712   -3.8604418   0.61079776 \n",
      "    2600   0.58462656 -0.012848504  0.071619136   -3.8472783   0.59118941 \n",
      "    2800    0.5653829 -0.024533313  0.073492605   -3.8282176   0.57172973 \n",
      "    3000   0.54738414 -0.040138418  0.077056536   -3.8131632   0.55352893 \n",
      "    3200   0.52881955 -0.034459961  0.081429832   -3.7981154   0.53475594 \n",
      "    3400   0.50884204 -0.034010787   0.08146267   -3.7757557   0.51455416 \n",
      "    3600    0.4981216 -0.011015526  0.086904197    -3.771144   0.50371338 \n",
      "    3800   0.49241207 -0.025170709  0.087286036   -3.7648154   0.49793976 \n",
      "    4000   0.49229223 -0.027822677  0.091850396   -3.7707609   0.49781857 \n",
      "    4200   0.48150953 -0.024232796  0.094870401   -3.7626094   0.48691483 \n",
      "    4400    0.4813497 -0.010008548  0.094548622    -3.762571    0.4867532 \n",
      "    4600    0.4878576 -0.011788401  0.097047282   -3.7724242   0.49333416 \n",
      "    4800   0.47591934 -0.025453815   0.10157533   -3.7649955   0.48126188 \n",
      "    5000   0.48671577 -0.00072033191  0.099562468   -3.7751109   0.49217951 \n",
      "    5200   0.49071803  -0.01431274  0.099118965   -3.7794775    0.4962267 \n",
      "    5400   0.49633866  0.010133839   0.10187828   -3.7897298   0.50191042 \n",
      "    5600   0.50606106 0.0080842912   0.10597603   -3.8060692   0.51174197 \n",
      "    5800   0.50388009 -0.0017421924   0.11082076   -3.8101504   0.50953651 \n",
      "    6000   0.50991816  0.015313351   0.11009312   -3.8164071   0.51564237 \n",
      "    6200   0.50557346  0.016689649   0.11091585   -3.8135255   0.51124889 \n",
      "    6400   0.50840783  0.031104255   0.11791772   -3.8229345   0.51411508 \n",
      "    6600   0.50609052 -0.0087893214   0.12032663   -3.8235584   0.51177176 \n",
      "    6800   0.51214038 -0.016722852   0.11852197   -3.8280961   0.51788953 \n",
      "    7000   0.51553438 -0.017151677    0.1170728   -3.8309323   0.52132163 \n",
      "    7200   0.51766342 -0.0043707644   0.11804952   -3.8354095   0.52347456 \n",
      "    7400   0.51631716 0.0088679899   0.12220639    -3.838622   0.52211319 \n",
      "    7600   0.52099875 -0.0054756165   0.11719214   -3.8385728   0.52684734 \n",
      "    7800   0.52308829 -0.010312568   0.11898072   -3.8425963   0.52896033 \n",
      "    8000   0.51640496 -0.023140832   0.12534375   -3.8419236   0.52220198 \n",
      "Loop time of 62.5975 on 1 procs for 8000 steps with 11536 atoms\n",
      "\n",
      "Performance: 55209.880 tau/day, 127.801 timesteps/s\n",
      "100.0% CPU use with 1 MPI tasks x 1 OpenMP threads\n",
      "\n",
      "MPI task timing breakdown:\n",
      "Section |  min time  |  avg time  |  max time  |%varavg| %total\n",
      "---------------------------------------------------------------\n",
      "Pair    | 40.35      | 40.35      | 40.35      |   0.0 | 64.46\n",
      "Bond    | 1.0971     | 1.0971     | 1.0971     |   0.0 |  1.75\n",
      "Neigh   | 17.814     | 17.814     | 17.814     |   0.0 | 28.46\n",
      "Comm    | 0.19107    | 0.19107    | 0.19107    |   0.0 |  0.31\n",
      "Output  | 1.0008     | 1.0008     | 1.0008     |   0.0 |  1.60\n",
      "Modify  | 1.8933     | 1.8933     | 1.8933     |   0.0 |  3.02\n",
      "Other   |            | 0.2514     |            |       |  0.40\n",
      "\n",
      "Nlocal:    11536 ave 11536 max 11536 min\n",
      "Histogram: 1 0 0 0 0 0 0 0 0 0\n",
      "Nghost:    2629 ave 2629 max 2629 min\n",
      "Histogram: 1 0 0 0 0 0 0 0 0 0\n",
      "Neighs:    523860 ave 523860 max 523860 min\n",
      "Histogram: 1 0 0 0 0 0 0 0 0 0\n",
      "\n",
      "Total # of neighbors = 523860\n",
      "Ave neighs/atom = 45.4109\n",
      "Ave special neighs/atom = 1.33148\n",
      "Neighbor list builds = 454\n",
      "Dangerous builds = 0\n"
     ]
    }
   ],
   "source": [
    "L.command('fix nve1 hole nve')\n",
    "L.command('compute stressA all stress/atom NULL')\n",
    "L.command('compute 1 indent ke')\n",
    "L.command('fix kin all ave/time 1 1 10 c_1 file kinetic.data')\n",
    "L.command('dump mydump all custom 200 Conf.dat id type x y z c_stressA[1] c_stressA[2] c_stressA[3]')\n",
    "L.command('dump_modify mydump sort id')\n",
    "L.command('run 8000')"
   ]
  },
  {
   "cell_type": "code",
   "execution_count": null,
   "id": "f9cc8eea-ec96-4d72-9ea7-e95e64e4ee7d",
   "metadata": {},
   "outputs": [],
   "source": []
  },
  {
   "cell_type": "markdown",
   "id": "080961ab-f8db-4e97-a546-166daaf2b199",
   "metadata": {},
   "source": [
    "### Visualisation"
   ]
  },
  {
   "cell_type": "code",
   "execution_count": 12,
   "id": "efc0a276-9d1d-44d9-bf5e-762136c23ba7",
   "metadata": {},
   "outputs": [
    {
     "data": {
      "application/vnd.jupyter.widget-view+json": {
       "model_id": "4323fdd8004442e6a08877550e9054f1",
       "version_major": 2,
       "version_minor": 0
      },
      "text/plain": []
     },
     "metadata": {},
     "output_type": "display_data"
    }
   ],
   "source": [
    "import warnings\n",
    "warnings.filterwarnings('ignore', category=DeprecationWarning)\n",
    "warnings.filterwarnings('ignore', category=UserWarning)\n",
    "import nglview as nv\n",
    "import MDAnalysis as mda\n",
    "\n",
    "u = mda.Universe('Conf.dat',format='LAMMPSDUMP')"
   ]
  },
  {
   "cell_type": "code",
   "execution_count": 13,
   "id": "6d2b1967-ca45-4252-ae08-3c7b5d8fa086",
   "metadata": {},
   "outputs": [],
   "source": [
    "atoms = u.atoms"
   ]
  },
  {
   "cell_type": "code",
   "execution_count": 14,
   "id": "e039e85a-62c7-45c7-9542-20ba6f1ed0d5",
   "metadata": {},
   "outputs": [],
   "source": [
    "view = nv.show_mdanalysis(atoms)"
   ]
  },
  {
   "cell_type": "code",
   "execution_count": 15,
   "id": "214da0cb-e0f3-4e9b-bd24-75bcdc165955",
   "metadata": {},
   "outputs": [
    {
     "data": {
      "application/vnd.jupyter.widget-view+json": {
       "model_id": "ebd4485c1fdf4b4b850ad704cc56cf26",
       "version_major": 2,
       "version_minor": 0
      },
      "text/plain": [
       "NGLWidget(max_frame=40)"
      ]
     },
     "metadata": {},
     "output_type": "display_data"
    }
   ],
   "source": [
    "view"
   ]
  },
  {
   "cell_type": "code",
   "execution_count": 17,
   "id": "8a67f3b2-8b90-4ce5-9079-bf4e10e643d0",
   "metadata": {},
   "outputs": [
    {
     "data": {
      "image/png": "[encoded data removed]",
      "text/plain": [
       "<Figure size 600x400 with 1 Axes>"
      ]
     },
     "metadata": {
      "needs_background": "light"
     },
     "output_type": "display_data"
    }
   ],
   "source": [
    "import numpy as np\n",
    "import matplotlib.pyplot as plt\n",
    "\n",
    "kin = np.loadtxt('kinetic.data')\n",
    "time = 0.005*kin[:,0]\n",
    "vel = np.sqrt(2*kin[:,1]/3760.0)\n",
    "\n",
    "plt.figure(dpi=100)\n",
    "plt.plot(time,vel);\n",
    "plt.xlabel('Time');\n",
    "plt.ylabel(\"Velocity of the bullet\");"
   ]
  },
  {
   "cell_type": "code",
   "execution_count": null,
   "id": "0866f168",
   "metadata": {},
   "outputs": [],
   "source": []
  }
 ],
 "metadata": {
  "kernelspec": {
   "display_name": "Python 3 (ipykernel)",
   "language": "python",
   "name": "python3"
  },
  "language_info": {
   "codemirror_mode": {
    "name": "ipython",
    "version": 3
   },
   "file_extension": ".py",
   "mimetype": "text/x-python",
   "name": "python",
   "nbconvert_exporter": "python",
   "pygments_lexer": "ipython3",
   "version": "3.8.12"
  },
  "toc-showcode": false
 },
 "nbformat": 4,
 "nbformat_minor": 5
}
