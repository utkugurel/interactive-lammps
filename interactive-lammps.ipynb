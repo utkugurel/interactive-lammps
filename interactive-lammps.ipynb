{
 "cells": [
  {
   "cell_type": "markdown",
   "id": "ab4d7971-ec80-4cb2-88c1-6c1bc5856e0c",
   "metadata": {},
   "source": [
    "## Interactive lammps"
   ]
  },
  {
   "cell_type": "code",
   "execution_count": 1,
   "id": "f5478910-34e0-4419-bd26-b741a495ac7b",
   "metadata": {},
   "outputs": [],
   "source": [
    "from lammps import PyLammps"
   ]
  },
  {
   "cell_type": "code",
   "execution_count": 2,
   "id": "548244a8-68cf-4170-a259-c7fdff11437e",
   "metadata": {},
   "outputs": [
    {
     "name": "stdout",
     "output_type": "stream",
     "text": [
      "LAMMPS (3 Mar 2020)\n",
      "OMP_NUM_THREADS environment is not set. Defaulting to 1 thread. (src/comm.cpp:94)\n",
      "  using 1 OpenMP thread(s) per MPI task\n",
      "LAMMPS output is captured by PyLammps wrapper\n"
     ]
    }
   ],
   "source": [
    "L = PyLammps()"
   ]
  },
  {
   "cell_type": "code",
   "execution_count": 3,
   "id": "e97bbbfa-ea79-40e2-8944-b6b23f9bcd55",
   "metadata": {},
   "outputs": [],
   "source": [
    "L.command(\"units lj\")\n",
    "L.command(\"atom_style full\")\n",
    "L.command(\"bond_style harmonic\")\n",
    "L.command(\"pair_style lj/expand 1.12246\")\n",
    "L.command(\"dimension 3\")\n",
    "L.command(\"boundary p p p\")\n",
    "L.command(\"neighbor 0.8 bin\")"
   ]
  },
  {
   "cell_type": "code",
   "execution_count": 4,
   "id": "89335ce7-cfca-46c3-8197-c2922f951a62",
   "metadata": {},
   "outputs": [
    {
     "name": "stdout",
     "output_type": "stream",
     "text": [
      "Reading data file ...\n",
      "  orthogonal box = (-10.4854 -10.4854 -2.66972) to (10.4854 10.4854 2.4435)\n",
      "  1 by 1 by 1 MPI processor grid\n",
      "  reading atoms ...\n",
      "  1944 atoms\n",
      "  reading velocities ...\n",
      "  1944 velocities\n",
      "  scanning bonds ...\n",
      "  2 = max bonds/atom\n",
      "  reading bonds ...\n",
      "  1920 bonds\n",
      "Finding 1-2 1-3 1-4 neighbors ...\n",
      "  special bond factors lj:   0          0          0         \n",
      "  special bond factors coul: 0          0          0         \n",
      "  8 = max # of 1-2 neighbors\n",
      "  8 = max # of 1-3 neighbors\n",
      "  16 = max # of 1-4 neighbors\n",
      "  24 = max # of special neighbors\n",
      "  special bonds CPU = 0.00127006 secs\n",
      "  read_data CPU = 0.0124199 secs\n"
     ]
    }
   ],
   "source": [
    "L.command('read_data startBullet.data')"
   ]
  },
  {
   "cell_type": "code",
   "execution_count": 5,
   "id": "c05ecf3c-ec4f-4f1c-9fdb-0f9ffbe6c0cf",
   "metadata": {},
   "outputs": [
    {
     "name": "stdout",
     "output_type": "stream",
     "text": [
      "Changing box ...\n"
     ]
    }
   ],
   "source": [
    "L.command('change_box all boundary p p f')"
   ]
  },
  {
   "cell_type": "code",
   "execution_count": 6,
   "id": "6b05af9f-b4b3-4090-986b-af184a3abab6",
   "metadata": {},
   "outputs": [
    {
     "name": "stdout",
     "output_type": "stream",
     "text": [
      "Changing box ...\n",
      "  orthogonal box = (-10.4854 -10.4854 -42.6697) to (10.4854 10.4854 22.4435)\n"
     ]
    }
   ],
   "source": [
    "L.command('change_box all z delta -40.0 20.0 units box')"
   ]
  },
  {
   "cell_type": "markdown",
   "id": "969ec2cb-9f25-40c8-811f-9e7c9183f4e4",
   "metadata": {},
   "source": [
    "#### Potentials "
   ]
  },
  {
   "cell_type": "code",
   "execution_count": 7,
   "id": "7229dbec-71c0-4c79-ab64-44963ac6b303",
   "metadata": {},
   "outputs": [],
   "source": [
    "L.command('bond_style    harmonic')\n",
    "L.command('bond_coeff    1 2500.0 0.9')\n",
    "L.command('bond_coeff    2 2500.0 0.9')"
   ]
  },
  {
   "cell_type": "code",
   "execution_count": 8,
   "id": "5cc3b430-2693-4094-967b-7d8d93103301",
   "metadata": {},
   "outputs": [
    {
     "name": "stdout",
     "output_type": "stream",
     "text": [
      "Finding 1-2 1-3 1-4 neighbors ...\n",
      "  special bond factors lj:   0          1          1         \n",
      "  special bond factors coul: 0          1          1         \n",
      "  8 = max # of 1-2 neighbors\n",
      "  24 = max # of special neighbors\n",
      "  special bonds CPU = 0.000613928 secs\n"
     ]
    }
   ],
   "source": [
    "L.command('special_bonds fene')"
   ]
  },
  {
   "cell_type": "code",
   "execution_count": 9,
   "id": "5f89bd79-c2da-494b-8b12-273e3b01a8b5",
   "metadata": {},
   "outputs": [],
   "source": [
    "L.command('pair_style lj/expand 1.12246')\n",
    "L.command('pair_coeff    1 1 1.0 1.0  0.0   2.5')\n",
    "L.command('pair_coeff    1 2 1.0 1.0  0.0   2.5')\n",
    "L.command('pair_coeff    2 2 1.0 1.0  0.0   2.5')\n",
    "L.command('pair_coeff    1 3 1.0 1.0  0.0   2.5') #bullet-core interaction\n",
    "L.command('pair_coeff    2 3 1.0 1.0  0.0   2.5') #bullet-polymer interaction\n",
    "L.command('pair_coeff    3 3 1.0 1.0  0.0   2.5') #bullet-bullet, not relevant"
   ]
  },
  {
   "cell_type": "markdown",
   "id": "253213d0-695c-4850-afa3-9c9d18c74c61",
   "metadata": {},
   "source": [
    "#### Variables Definition"
   ]
  },
  {
   "cell_type": "code",
   "execution_count": 10,
   "id": "478432ad-89c3-4026-b418-947b76d87c64",
   "metadata": {},
   "outputs": [],
   "source": [
    "L.command('variable size equal yhi')\n",
    "L.command('variable lBox equal ${size}')\n",
    "L.command('variable dt equal 0.005')\n",
    "L.command('variable massBullet equal 1.0')\n",
    "L.command('variable velocityBullet equal -2')\n",
    "L.command('variable radiusBullet equal 5')"
   ]
  },
  {
   "cell_type": "markdown",
   "id": "8b4bebd1-aa01-44e0-82b3-dd1669004ef6",
   "metadata": {},
   "source": [
    "#### Thermo Style"
   ]
  },
  {
   "cell_type": "code",
   "execution_count": 11,
   "id": "8b36b2a9-c01f-44ad-baa7-11b70c700fcc",
   "metadata": {},
   "outputs": [],
   "source": [
    "L.command('thermo  50')\n",
    "L.command('compute stressA all stress/atom NULL')\n",
    "L.command('compute p all reduce sum c_stressA[1] c_stressA[2] c_stressA[3]')\n",
    "L.command('variable        pz equal -(c_p[3])/(vol)')\n",
    "L.command('variable        pxy equal -(c_p[1]+c_p[2])/(2*vol)')\n",
    "L.command('thermo_style    custom step temp ebond epair ke etotal enthalpy vol density press v_pxy v_pz')"
   ]
  },
  {
   "cell_type": "markdown",
   "id": "a2a8219b-d10a-407c-98f0-3264dfa16d29",
   "metadata": {},
   "source": [
    "#### Fix Borders"
   ]
  },
  {
   "cell_type": "code",
   "execution_count": 12,
   "id": "193d8507-46fd-4a2b-943a-594dac57e74b",
   "metadata": {},
   "outputs": [
    {
     "name": "stdout",
     "output_type": "stream",
     "text": [
      "Replicating atoms ...\n",
      "  orthogonal box = (-10.4854 -10.4854 -42.6697) to (31.4561 31.4561 22.4435)\n",
      "  1 by 1 by 1 MPI processor grid\n",
      "  7776 atoms\n",
      "  7680 bonds\n",
      "Finding 1-2 1-3 1-4 neighbors ...\n",
      "  special bond factors lj:   0          1          1         \n",
      "  special bond factors coul: 0          1          1         \n",
      "  8 = max # of 1-2 neighbors\n",
      "  8 = max # of special neighbors\n",
      "  special bonds CPU = 0.00290012 secs\n",
      "  replicate CPU = 0.00856996 secs\n"
     ]
    }
   ],
   "source": [
    "L.command('replicate 2 2 1')"
   ]
  },
  {
   "cell_type": "code",
   "execution_count": 13,
   "id": "c67deeca-11b6-4d4d-ab49-f9741428bae4",
   "metadata": {},
   "outputs": [],
   "source": [
    "L.command('region hole cylinder z ${lBox} ${lBox} 20 -10.0 10.0 side in units box')"
   ]
  },
  {
   "cell_type": "code",
   "execution_count": 14,
   "id": "a8298a24-0263-4af1-8b17-244f5cacb2d4",
   "metadata": {},
   "outputs": [
    {
     "name": "stdout",
     "output_type": "stream",
     "text": [
      "5578 atoms in group hole\n"
     ]
    }
   ],
   "source": [
    "L.command('group hole region hole')"
   ]
  },
  {
   "cell_type": "code",
   "execution_count": 15,
   "id": "5783cd8a-4ccb-4dae-b62a-ac85a0568425",
   "metadata": {},
   "outputs": [
    {
     "name": "stdout",
     "output_type": "stream",
     "text": [
      "7776 atoms in group film\n"
     ]
    }
   ],
   "source": [
    "L.command('group film type 1 2')"
   ]
  },
  {
   "cell_type": "code",
   "execution_count": 16,
   "id": "b34e8e95-6770-49c2-8477-347aba4edb0c",
   "metadata": {},
   "outputs": [
    {
     "name": "stdout",
     "output_type": "stream",
     "text": [
      "2198 atoms in group base\n"
     ]
    }
   ],
   "source": [
    "L.command('group base subtract film hole')"
   ]
  },
  {
   "cell_type": "code",
   "execution_count": 17,
   "id": "dde6459a-daa7-4d5d-92ae-57c57fa49d73",
   "metadata": {},
   "outputs": [],
   "source": [
    "L.command('fix nailed base setforce 0.0 0.0 0.0')\n",
    "L.command('velocity base set 0.0 0.0 0.0 units box')\n",
    "L.command('velocity hole create 0.1 12394123')"
   ]
  },
  {
   "cell_type": "markdown",
   "id": "3a18d8d5-7061-4cb9-9d70-01ed78607e40",
   "metadata": {},
   "source": [
    "#### Equilibrate"
   ]
  },
  {
   "cell_type": "code",
   "execution_count": 18,
   "id": "42e27c0a-a53d-4df1-aed7-a912f037357d",
   "metadata": {},
   "outputs": [],
   "source": [
    "L.command('fix nvt0 all nvt temp 0.1 0.1 0.5')"
   ]
  },
  {
   "cell_type": "code",
   "execution_count": 19,
   "id": "ac5e6fac-bb99-4319-9fb4-3f6611fc01b8",
   "metadata": {},
   "outputs": [
    {
     "name": "stdout",
     "output_type": "stream",
     "text": [
      "Neighbor list info ...\n",
      "  update every 1 steps, delay 10 steps, check yes\n",
      "  max neighbors/atom: 2000, page size: 100000\n",
      "  master list distance cutoff = 3.3\n",
      "  ghost atom cutoff = 3.3\n",
      "  binsize = 1.65, bins = 26 26 40\n",
      "  1 neighbor lists, perpetual/occasional/extra = 1 0 0\n",
      "  (1) pair lj/expand, perpetual\n",
      "      attributes: half, newton on\n",
      "      pair build: half/bin/newton\n",
      "      stencil: half/bin/3d/newton\n",
      "      bin: standard\n",
      "Setting up Verlet run ...\n",
      "  Unit style    : lj\n",
      "  Current step  : 0\n",
      "  Time step     : 0.005\n",
      "Per MPI rank memory allocation (min/avg/max) = 10.21 | 10.21 | 10.21 Mbytes\n",
      "Step Temp E_bond E_pair KinEng TotEng Enthalpy Volume Density Press v_pxy v_pz \n",
      "       0  0.071729904  0.045537068   -5.8208168   0.10758102   -5.6676987   -5.7680498     114539.8  0.067889065 -0.0068127439 -0.0019261848 -0.016585862 \n",
      "      50  0.074162004  0.049716923   -5.8244014    0.1112287   -5.6634558   -5.7242414     114539.8  0.067889065 -0.0041266831 -0.00096742111 -0.010445207 \n",
      "     100  0.076304986  0.050687266   -5.8224064   0.11444276   -5.6572764   -5.7775176     114539.8  0.067889065 -0.0081630636 -0.0032360618 -0.018017067 \n",
      "     150  0.077978338  0.052143916   -5.8191982   0.11695247   -5.6501018   -5.6552517     114539.8  0.067889065 -0.00034962211 0.0012659202 -0.0035807068 \n",
      "     200  0.079877688  0.054272195   -5.8163478   0.11980112   -5.6422745   -5.7053173     114539.8  0.067889065 -0.0042799185 -0.0028701706 -0.0070994143 \n",
      "     250  0.082523527  0.054528794   -5.8125712   0.12376937    -5.634273   -5.7418821     114539.8  0.067889065 -0.0073054831 -0.00039755224 -0.021121345 \n",
      "     300  0.085584425  0.055912667   -5.8106591   0.12836013   -5.6263864   -5.5471819     114539.8  0.067889065  0.005377118 0.0075439091 0.0010435357 \n",
      "     350   0.08720331  0.058393111    -5.807126   0.13078814   -5.6179448   -5.6601682     114539.8  0.067889065 -0.0028665114 0.00062719307 -0.0098539205 \n",
      "     400  0.091179943  0.058156138    -5.805075   0.13675233   -5.6101665   -5.8210902     114539.8  0.067889065 -0.014319415 -0.0080543438 -0.026849557 \n",
      "     450  0.093293769  0.060968164    -5.803057   0.13992266   -5.6021662   -5.5740936     114539.8  0.067889065 0.0019058195 0.0066938381 -0.0076702177 \n",
      "     500  0.095322962   0.06223919   -5.8005839   0.14296606   -5.5953786   -5.5532506     114539.8  0.067889065 0.0028600304 0.0072416601 -0.0059032292 \n",
      "Loop time of 4.1923 on 1 procs for 500 steps with 7776 atoms\n",
      "\n",
      "Performance: 51522.994 tau/day, 119.266 timesteps/s\n",
      "100.3% CPU use with 1 MPI tasks x 1 OpenMP threads\n",
      "\n",
      "MPI task timing breakdown:\n",
      "Section |  min time  |  avg time  |  max time  |%varavg| %total\n",
      "---------------------------------------------------------------\n",
      "Pair    | 3.9838     | 3.9838     | 3.9838     |   0.0 | 95.03\n",
      "Bond    | 0.072686   | 0.072686   | 0.072686   |   0.0 |  1.73\n",
      "Neigh   | 0.043461   | 0.043461   | 0.043461   |   0.0 |  1.04\n",
      "Comm    | 0.0078802  | 0.0078802  | 0.0078802  |   0.0 |  0.19\n",
      "Output  | 0.0038753  | 0.0038753  | 0.0038753  |   0.0 |  0.09\n",
      "Modify  | 0.065025   | 0.065025   | 0.065025   |   0.0 |  1.55\n",
      "Other   |            | 0.0156     |            |       |  0.37\n",
      "\n",
      "Nlocal:    7776 ave 7776 max 7776 min\n",
      "Histogram: 1 0 0 0 0 0 0 0 0 0\n",
      "Nghost:    2628 ave 2628 max 2628 min\n",
      "Histogram: 1 0 0 0 0 0 0 0 0 0\n",
      "Neighs:    444144 ave 444144 max 444144 min\n",
      "Histogram: 1 0 0 0 0 0 0 0 0 0\n",
      "\n",
      "Total # of neighbors = 444144\n",
      "Ave neighs/atom = 57.1173\n",
      "Ave special neighs/atom = 1.97531\n",
      "Neighbor list builds = 4\n",
      "Dangerous builds = 0\n"
     ]
    }
   ],
   "source": [
    "L.command('run 500')"
   ]
  },
  {
   "cell_type": "code",
   "execution_count": 20,
   "id": "b009907a-61ae-471c-9239-6756772ec3d7",
   "metadata": {},
   "outputs": [],
   "source": [
    "L.command('reset_timestep 0')\n",
    "L.command('unfix nvt0')"
   ]
  },
  {
   "cell_type": "markdown",
   "id": "00526cad-c1ed-48ec-a172-27dd490b5aa3",
   "metadata": {},
   "source": [
    "#### Create Gold Bullet"
   ]
  },
  {
   "cell_type": "code",
   "execution_count": 21,
   "id": "bfa00e08-2d19-49c0-ade5-ab432810ee27",
   "metadata": {},
   "outputs": [
    {
     "name": "stdout",
     "output_type": "stream",
     "text": [
      "Lattice spacing in x,y,z = 1.03574 1.03574 1.03574\n"
     ]
    }
   ],
   "source": [
    "L.command('lattice diamond 7.2')"
   ]
  },
  {
   "cell_type": "code",
   "execution_count": 22,
   "id": "f09b2189-0092-4871-a586-e3965309dddf",
   "metadata": {},
   "outputs": [],
   "source": [
    "L.command('variable hBullet equal 5+${radiusBullet}')\n",
    "L.command('region 1 sphere ${lBox} ${lBox} ${hBullet} ${radiusBullet} side in units box')"
   ]
  },
  {
   "cell_type": "code",
   "execution_count": 23,
   "id": "b7e95b5f-2132-4db7-b8fe-b0ee0f353a6a",
   "metadata": {},
   "outputs": [
    {
     "name": "stdout",
     "output_type": "stream",
     "text": [
      "Created 3741 atoms\n",
      "  create_atoms CPU = 0.00317502 secs\n"
     ]
    }
   ],
   "source": [
    "L.command('create_atoms 3 region 1 units box')"
   ]
  },
  {
   "cell_type": "code",
   "execution_count": 24,
   "id": "39701bf2-bbf8-4c1c-a3e3-e7c92c3afb6f",
   "metadata": {},
   "outputs": [
    {
     "name": "stdout",
     "output_type": "stream",
     "text": [
      "3741 atoms in group indent\n"
     ]
    }
   ],
   "source": [
    "L.command('group indent type 3')"
   ]
  },
  {
   "cell_type": "code",
   "execution_count": 25,
   "id": "48d3b4c0-a9c5-44fa-ab19-83a4867959d8",
   "metadata": {},
   "outputs": [],
   "source": [
    "L.command('mass 3 ${massBullet}')\n",
    "L.command('neigh_modify exclude group indent indent')"
   ]
  },
  {
   "cell_type": "code",
   "execution_count": 26,
   "id": "4ec7cbbe-3d6a-4212-849f-a5a3af8598cd",
   "metadata": {},
   "outputs": [
    {
     "name": "stdout",
     "output_type": "stream",
     "text": [
      "1 rigid bodies with 3741 atoms\n"
     ]
    }
   ],
   "source": [
    "L.command('fix 1 indent rigid single')"
   ]
  },
  {
   "cell_type": "code",
   "execution_count": 27,
   "id": "9e9cccdc-4e06-420c-a19e-3ae76f33baf2",
   "metadata": {},
   "outputs": [
    {
     "name": "stdout",
     "output_type": "stream",
     "text": [
      "WARNING: Changing velocities of atoms in rigid bodies. This has no effect unless rigid bodies are rebuild (src/velocity.cpp:71)\n"
     ]
    }
   ],
   "source": [
    "L.command('velocity indent set 0.0 0.0 ${velocityBullet} units box')"
   ]
  },
  {
   "cell_type": "markdown",
   "id": "d5ce2dbf-d931-4551-96c8-44754e763979",
   "metadata": {},
   "source": [
    "#### Shoot"
   ]
  },
  {
   "cell_type": "code",
   "execution_count": 28,
   "id": "67d74008-f88b-44fe-a1d4-d03cd44718f6",
   "metadata": {},
   "outputs": [],
   "source": [
    "L.command('fix nve1 hole nve')\n",
    "L.command('compute 1 indent com')\n",
    "L.command('compute 2 all ke')\n",
    "L.command('compute 3 all pe')\n",
    "L.command('compute 4 indent ke')\n",
    "L.command('compute 5 indent group/group film')\n",
    "L.command('fix kin all ave/time 1 1 10 c_4 file kinetic.data')\n",
    "L.command('dump mydump all custom 200 Conf.dat id type x y z c_stressA[1] c_stressA[2] c_stressA[3]')\n",
    "L.command('dump_modify mydump sort id')"
   ]
  },
  {
   "cell_type": "code",
   "execution_count": 29,
   "id": "3f3eeae6-8787-4c10-ab58-b3faad35149d",
   "metadata": {
    "tags": []
   },
   "outputs": [
    {
     "name": "stdout",
     "output_type": "stream",
     "text": [
      "Neighbor list info ...\n",
      "  update every 1 steps, delay 10 steps, check yes\n",
      "  max neighbors/atom: 2000, page size: 100000\n",
      "  master list distance cutoff = 3.3\n",
      "  ghost atom cutoff = 3.3\n",
      "  binsize = 1.65, bins = 26 26 40\n",
      "  2 neighbor lists, perpetual/occasional/extra = 1 1 0\n",
      "  (1) pair lj/expand, perpetual\n",
      "      attributes: half, newton on\n",
      "      pair build: half/bin/newton\n",
      "      stencil: half/bin/3d/newton\n",
      "      bin: standard\n",
      "  (2) compute group/group, occasional, copy from (1)\n",
      "      attributes: half, newton on\n",
      "      pair build: copy\n",
      "      stencil: none\n",
      "      bin: none\n",
      "Setting up Verlet run ...\n",
      "  Unit style    : lj\n",
      "  Current step  : 0\n",
      "  Time step     : 0.005\n",
      "Per MPI rank memory allocation (min/avg/max) = 15.05 | 15.05 | 15.05 Mbytes\n",
      "Step Temp E_bond E_pair KinEng TotEng Enthalpy Volume Density Press v_pxy v_pz \n",
      "       0   0.73667687  0.042022396    -3.916414   0.74617557   -3.1282161   -2.6666733     114539.8    0.1005502  0.046408212 0.0072416601   0.12474131 \n",
      "     100   0.73749558  0.041643266   -3.9170572   0.74700484   -3.1284091   -2.7166235     114539.8    0.1005502  0.041405122 0.0012759072   0.12166355 \n",
      "     200   0.74321013  0.040946143   -3.9240068   0.75279307   -3.1302676    -2.712326     114539.8    0.1005502  0.042024112 0.0065100739   0.11305219 \n",
      "     300   0.74320111   0.04254881   -3.9302965   0.75278393   -3.1349637   -2.5636439     114539.8    0.1005502  0.057446325  0.011518439    0.1493021 \n",
      "     400   0.74465181  0.044045178   -3.9371162   0.75425334   -3.1388177   -2.6684967     114539.8    0.1005502  0.047290877  0.015885299   0.11010203 \n",
      "     500   0.74212497   0.04539206   -3.9397548   0.75169391   -3.1426688    -2.615105     114539.8    0.1005502  0.053046646  0.024364911   0.11041012 \n",
      "     600   0.74351301  0.047113481   -3.9466769   0.75309985   -3.1464636   -2.5424279     114539.8    0.1005502  0.060735911  0.024760967    0.1326858 \n",
      "     700   0.74869516  0.047652594   -3.9562567   0.75834882   -3.1502553   -2.5932501     114539.8    0.1005502  0.056006985  0.027455225    0.1131105 \n",
      "     800   0.74681989  0.048924554   -3.9583915   0.75644937   -3.1530176   -2.7006363     114539.8    0.1005502  0.045487033  0.021534985   0.09339113 \n",
      "     900   0.74877539  0.050011797   -3.9635397   0.75843009   -3.1550979   -2.6313574     114539.8    0.1005502  0.052662211  0.029905576  0.098175481 \n",
      "    1000   0.73826707  0.052752598   -3.9566956   0.74778627   -3.1561568   -2.7502081     114539.8    0.1005502  0.040818216 0.0050893387   0.11227597 \n",
      "    1100   0.74199749  0.055635179   -3.9658822    0.7515648   -3.1586823    -2.828765     114539.8    0.1005502  0.033173248 0.0036594133  0.092200917 \n",
      "    1200   0.73946445  0.055677963   -3.9639523   0.74899909   -3.1592753   -2.8959409     114539.8    0.1005502   0.02647832 -0.0033248264  0.086084614 \n",
      "    1300   0.73603894  0.056309979   -3.9616867   0.74552941   -3.1598473   -2.9083191     114539.8    0.1005502   0.02529121 -0.015132679   0.10613899 \n",
      "    1400   0.72720642  0.057601365   -3.9544228     0.736583   -3.1602384   -3.1357582     114539.8    0.1005502 0.0024614884 -0.025486415  0.058357296 \n",
      "    1500   0.72021849  0.061224332   -3.9511565   0.72950498   -3.1604272   -3.0591992     114539.8    0.1005502  0.010178495 -0.021758277   0.07405204 \n",
      "    1600   0.71856862  0.061861903   -3.9507491   0.72783384   -3.1610534   -3.2115573     114539.8    0.1005502 -0.0050781744 -0.045144261  0.075053999 \n",
      "    1700   0.70775292  0.063226339   -3.9406578   0.71687868   -3.1605528   -3.3370635     114539.8    0.1005502 -0.017748194 -0.062417487  0.071590392 \n",
      "    1800   0.70645219  0.064423244   -3.9409196   0.71556118   -3.1609352   -3.2789924     114539.8    0.1005502 -0.011870676 -0.048319714  0.061027399 \n",
      "    1900   0.68458452  0.066421483   -3.9197574   0.69341154   -3.1599244   -3.1816872     114539.8    0.1005502 -0.0021882585 -0.047884499  0.089204223 \n",
      "    2000   0.67191782   0.06977485   -3.9093051   0.68058151   -3.1589488   -3.3486192     114539.8    0.1005502 -0.019071394 -0.056063477  0.054912772 \n",
      "    2100   0.66211446  0.072126076   -3.9016117   0.67065175   -3.1588339   -3.2560711     114539.8    0.1005502 -0.0097772214 -0.044071354  0.058811043 \n",
      "    2200   0.65309311  0.073069161   -3.8931049   0.66151408   -3.1585217    -3.331539     114539.8    0.1005502 -0.017396924  -0.05468522  0.057179669 \n",
      "    2300   0.63987015  0.073906676   -3.8802992   0.64812063   -3.1582719   -3.4010737     114539.8    0.1005502 -0.024413771 -0.052721357  0.032201402 \n",
      "    2400   0.63236135  0.075712593   -3.8736047     0.640515   -3.1573771   -3.5535221     114539.8    0.1005502 -0.039832459 -0.063149048 0.0068007192 \n",
      "    2500   0.61848382  0.076909961   -3.8601471   0.62645854   -3.1567786   -3.4952401     114539.8    0.1005502 -0.034032371 -0.067694459  0.033291803 \n",
      "    2600   0.61371171  0.075493063   -3.8538659    0.6216249   -3.1567479   -3.6490575     114539.8    0.1005502 -0.049501824 -0.074176489 -0.00015249234 \n",
      "    2700   0.59244556  0.077786364    -3.833902   0.60008454   -3.1560311   -3.3424097     114539.8    0.1005502 -0.018740406 -0.051537766  0.046854315 \n",
      "    2800   0.58079865  0.079137549   -3.8221101   0.58828746   -3.1546851   -3.5027303     114539.8    0.1005502 -0.034996012 -0.063167275  0.021346514 \n",
      "    2900   0.57305825  0.080380588   -3.8157378   0.58044725   -3.1549099   -3.4339052     114539.8    0.1005502 -0.028053031 -0.049731915  0.015304737 \n",
      "    3000    0.5645543  0.077732437   -3.8030857   0.57183366   -3.1535196   -3.5059132     114539.8    0.1005502 -0.035433242 -0.056394898 0.0064900698 \n",
      "    3100   0.55063312  0.081936812   -3.7927412   0.55773298   -3.1530714    -3.643325     114539.8    0.1005502 -0.049295094  -0.07062253 -0.0066402209 \n",
      "    3200   0.54114977  0.082624334   -3.7838525   0.54812734   -3.1531008    -3.610986     114539.8    0.1005502 -0.046040449 -0.055493372 -0.027134605 \n",
      "    3300   0.52476311   0.08635834   -3.7691681   0.53152939   -3.1512804   -3.5550227     114539.8    0.1005502 -0.040596371 -0.050591998 -0.020605118 \n",
      "    3400   0.51162952   0.08638233   -3.7551566   0.51822647   -3.1505478   -3.5027272     114539.8    0.1005502 -0.035411707 -0.060130217  0.014025313 \n",
      "    3500   0.51933412  0.085427185   -3.7628804    0.5260304   -3.1514229    -3.594024     114539.8    0.1005502  -0.04450363 -0.055754284 -0.022002321 \n",
      "    3600   0.49722032  0.090001372   -3.7444291   0.50363147   -3.1507962    -3.437178     114539.8    0.1005502 -0.028795746 -0.034362172 -0.017662896 \n",
      "    3700   0.49478543  0.091222983   -3.7423077   0.50116518   -3.1499195   -3.4811513     114539.8    0.1005502 -0.033305423 -0.044194068 -0.011528133 \n",
      "    3800    0.4941203  0.088652451   -3.7386779   0.50049147    -3.149534   -3.3900603     114539.8    0.1005502  -0.02418497 -0.037387465 0.0022200209 \n",
      "    3900   0.48275441  0.095378158   -3.7335126   0.48897904   -3.1491554   -3.4655208     114539.8    0.1005502 -0.031810605 -0.038740142  -0.01795153 \n",
      "    4000   0.48967369  0.093905777   -3.7394396   0.49598753   -3.1495463   -3.3391081     114539.8    0.1005502 -0.019060481 -0.027792097 -0.0015972484 \n",
      "    4100   0.47790251  0.097284209   -3.7308365   0.48406458   -3.1494877   -3.4634553     114539.8    0.1005502   -0.0315695 -0.035598297 -0.023511907 \n",
      "    4200   0.47708825   0.10026967   -3.7327037   0.48323982   -3.1491942   -3.7613729     114539.8    0.1005502  -0.06155469 -0.069241936 -0.046180198 \n",
      "    4300   0.47616445   0.10007708   -3.7323911   0.48230411   -3.1500099   -3.5808366     114539.8    0.1005502 -0.043319712 -0.049853051 -0.030253033 \n",
      "    4400   0.46411079  0.097110866   -3.7164207   0.47009502   -3.1492148   -3.7567563     114539.8    0.1005502 -0.061088422 -0.079372851 -0.024519564 \n",
      "    4500   0.47442318  0.098005119   -3.7286538   0.48054038   -3.1501083   -3.6558716     114539.8    0.1005502 -0.050854593  -0.04256213 -0.067439519 \n",
      "    4600   0.46891287   0.10296822   -3.7289088   0.47495902   -3.1509816   -3.5029678     114539.8    0.1005502 -0.035392283  -0.04833558 -0.0095056896 \n",
      "    4700   0.47339326    0.1014128   -3.7320963   0.47949718   -3.1511863   -3.6255124     114539.8    0.1005502 -0.047693586 -0.053074484  -0.03693179 \n",
      "    4800   0.47574795   0.10411056   -3.7377916   0.48188223   -3.1517988   -3.4384445     114539.8    0.1005502 -0.028822284 -0.037340912 -0.011785029 \n",
      "    4900   0.47285613   0.10408543   -3.7350279   0.47895313   -3.1519893   -3.4911287     114539.8    0.1005502 -0.034100534 -0.032692605 -0.036916392 \n",
      "    5000   0.47258767   0.10724092    -3.738686    0.4786812   -3.1527639   -3.2042695     114539.8    0.1005502 -0.0051788966 -0.0035105795 -0.0085155307 \n",
      "    5100   0.47741364   0.10623112   -3.7431871   0.48356941   -3.1533865   -3.2185553     114539.8    0.1005502 -0.0065527289 -0.012714067 0.0057699484 \n",
      "    5200   0.48469753   0.10462589   -3.7499539   0.49094721   -3.1543808   -3.2908597     114539.8    0.1005502 -0.013722979 -0.021806919 0.0024449004 \n",
      "    5300   0.48100696   0.10980283   -3.7523559   0.48720905   -3.1553441   -3.2638121     114539.8    0.1005502 -0.010906478 -0.0088246909 -0.015070052 \n",
      "    5400   0.48595636   0.10917745   -3.7569254   0.49222227   -3.1555257   -3.2230185     114539.8    0.1005502 -0.0067864235 -0.013673918 0.0069885659 \n",
      "    5500   0.48960625    0.1067414    -3.758058   0.49591922   -3.1553974    -3.296796     114539.8    0.1005502 -0.014217658 -0.018655187 -0.0053426004 \n",
      "    5600    0.4835291   0.11201603   -3.7581586   0.48976371   -3.1563788   -3.1393076     114539.8    0.1005502 0.0017165114 -0.0023124094  0.009774353 \n",
      "    5700   0.48293034   0.11519379   -3.7602781   0.48915723   -3.1559271     -3.37067     114539.8    0.1005502 -0.021592447 -0.022050724 -0.020675895 \n",
      "    5800   0.49285594   0.10808001    -3.764474   0.49921082   -3.1571832   -3.2687169     114539.8    0.1005502  -0.01121474 -0.020807158 0.0079700963 \n",
      "    5900   0.48310497    0.1142103   -3.7605844   0.48933411     -3.15704   -3.2020868     114539.8    0.1005502 -0.0045294712 -0.012855392  0.012122371 \n",
      "    6000     0.488946   0.11537079   -3.7683971   0.49525046   -3.1577758   -3.2494408     114539.8    0.1005502 -0.0092169306 -0.024602592  0.021554392 \n",
      "    6100    0.4920759   0.11595452   -3.7731463   0.49842072    -3.158771   -3.2334202     114539.8    0.1005502 -0.0075059857 -0.010763239 -0.00099147844 \n",
      "    6200   0.49884487   0.11751316   -3.7817375   0.50527697   -3.1589474   -3.1382507     114539.8    0.1005502 0.0020810496 0.0019017313 0.0024396861 \n",
      "    6300   0.48971315   0.12200129     -3.77696   0.49602751   -3.1589312   -3.2796501     114539.8    0.1005502 -0.012138313 -0.028018944  0.019622949 \n",
      "    6400   0.49009796   0.12356753   -3.7790133   0.49641728   -3.1590285   -3.2401729     114539.8    0.1005502 -0.0081590855  -0.01746138  0.010445504 \n",
      "    6500   0.50036884   0.12024213   -3.7879684   0.50682058   -3.1609056    -3.267738     114539.8    0.1005502 -0.010742012 -0.0052611417 -0.021703753 \n",
      "    6600   0.50870122   0.12075197   -3.7967393   0.51526041   -3.1607269   -3.2879393     114539.8    0.1005502 -0.012791236 -0.0062888424 -0.025796024 \n",
      "    6700   0.50092481   0.11973423   -3.7879494   0.50738373   -3.1608314   -3.0541816     114539.8    0.1005502  0.010723658  0.006826431  0.018518113 \n",
      "    6800   0.50006943   0.12742359   -3.7949439   0.50651732    -3.161003   -3.2716914     114539.8    0.1005502 -0.011129739 -0.0091508867 -0.015087445 \n",
      "    6900   0.49443305   0.12798456   -3.7894058   0.50080827    -3.160613   -3.5158199     114539.8    0.1005502 -0.035716128 -0.034491539 -0.038165305 \n",
      "    7000   0.50729325   0.12309487   -3.7983105   0.51383428   -3.1613813   -3.3265687     114539.8    0.1005502 -0.016609628 -0.024826431 -0.00017602163 \n",
      "    7100   0.50018037   0.12800663   -3.7957691   0.50662969   -3.1611328   -3.2856886     114539.8    0.1005502 -0.012524114 -0.0096889593 -0.018194423 \n",
      "    7200   0.50502052   0.12311973   -3.7973977   0.51153225   -3.1627457   -3.1372167     114539.8    0.1005502 0.0025669491 0.0064021965 -0.0051035458 \n",
      "    7300   0.50693259   0.12520813   -3.8011865   0.51346897   -3.1625094    -3.159104     114539.8    0.1005502 0.00034241163 0.0004000215 0.00022719189 \n",
      "    7400   0.50939195   0.12354451   -3.8027386   0.51596004   -3.1632341   -3.2176744     114539.8    0.1005502 -0.0054739874 -0.005683732 -0.0050544983 \n",
      "    7500    0.5128303   0.12573212   -3.8086362   0.51944273   -3.1634614   -3.2678328     114539.8    0.1005502 -0.010494568 -0.016259608 0.0010355121 \n",
      "    7600   0.51310255   0.12864347   -3.8119568   0.51971848   -3.1635948   -3.3372132     114539.8    0.1005502  -0.01745736 -0.011258783 -0.029854515 \n",
      "    7700   0.50627143   0.12780799   -3.8048369   0.51279929   -3.1642296   -3.2578471     114539.8    0.1005502 -0.0094132618 -0.017096736 0.0059536874 \n",
      "    7800   0.51549792   0.13177934   -3.8182746   0.52214474   -3.1643505   -3.2744212     114539.8    0.1005502 -0.011067626 -0.013778761 -0.0056453556 \n",
      "    7900   0.50985514    0.1328208   -3.8129358    0.5164292   -3.1636858   -3.2724863     114539.8    0.1005502 -0.010939911 -0.017626675 0.0024336161 \n",
      "    8000   0.50692132   0.13129527   -3.8084815   0.51345755   -3.1637287   -3.4649797     114539.8    0.1005502 -0.030290849 -0.036721815 -0.017428919 \n",
      "Loop time of 91.3438 on 1 procs for 8000 steps with 11517 atoms\n",
      "\n",
      "Performance: 37835.060 tau/day, 87.581 timesteps/s\n",
      "100.1% CPU use with 1 MPI tasks x 1 OpenMP threads\n",
      "\n",
      "MPI task timing breakdown:\n",
      "Section |  min time  |  avg time  |  max time  |%varavg| %total\n",
      "---------------------------------------------------------------\n",
      "Pair    | 69.382     | 69.382     | 69.382     |   0.0 | 75.96\n",
      "Bond    | 1.1231     | 1.1231     | 1.1231     |   0.0 |  1.23\n",
      "Neigh   | 17.342     | 17.342     | 17.342     |   0.0 | 18.99\n",
      "Comm    | 0.19056    | 0.19056    | 0.19056    |   0.0 |  0.21\n",
      "Output  | 1.1029     | 1.1029     | 1.1029     |   0.0 |  1.21\n",
      "Modify  | 1.9407     | 1.9407     | 1.9407     |   0.0 |  2.12\n",
      "Other   |            | 0.263      |            |       |  0.29\n",
      "\n",
      "Nlocal:    11517 ave 11517 max 11517 min\n",
      "Histogram: 1 0 0 0 0 0 0 0 0 0\n",
      "Nghost:    2600 ave 2600 max 2600 min\n",
      "Histogram: 1 0 0 0 0 0 0 0 0 0\n",
      "Neighs:    523925 ave 523925 max 523925 min\n",
      "Histogram: 1 0 0 0 0 0 0 0 0 0\n",
      "\n",
      "Total # of neighbors = 523925\n",
      "Ave neighs/atom = 45.4914\n",
      "Ave special neighs/atom = 1.33368\n",
      "Neighbor list builds = 438\n",
      "Dangerous builds = 0\n"
     ]
    }
   ],
   "source": [
    "L.command('thermo  100')\n",
    "L.command('run 8000')"
   ]
  },
  {
   "cell_type": "markdown",
   "id": "080961ab-f8db-4e97-a546-166daaf2b199",
   "metadata": {},
   "source": [
    "### Visualisation"
   ]
  },
  {
   "cell_type": "code",
   "execution_count": 30,
   "id": "efc0a276-9d1d-44d9-bf5e-762136c23ba7",
   "metadata": {},
   "outputs": [
    {
     "data": {
      "application/vnd.jupyter.widget-view+json": {
       "model_id": "785544bf49c44256901b099f7818a924",
       "version_major": 2,
       "version_minor": 0
      },
      "text/plain": []
     },
     "metadata": {},
     "output_type": "display_data"
    }
   ],
   "source": [
    "import warnings\n",
    "warnings.filterwarnings('ignore', category=DeprecationWarning)\n",
    "warnings.filterwarnings('ignore', category=UserWarning)\n",
    "import nglview as nv\n",
    "import MDAnalysis as mda\n",
    "\n",
    "u = mda.Universe('Conf.dat',format='LAMMPSDUMP')"
   ]
  },
  {
   "cell_type": "code",
   "execution_count": 31,
   "id": "6d2b1967-ca45-4252-ae08-3c7b5d8fa086",
   "metadata": {},
   "outputs": [],
   "source": [
    "atoms = u.atoms"
   ]
  },
  {
   "cell_type": "code",
   "execution_count": 32,
   "id": "e039e85a-62c7-45c7-9542-20ba6f1ed0d5",
   "metadata": {},
   "outputs": [],
   "source": [
    "view = nv.show_mdanalysis(atoms)"
   ]
  },
  {
   "cell_type": "code",
   "execution_count": 33,
   "id": "e1cbe38c-06c9-4301-92e8-10cdc57372c0",
   "metadata": {},
   "outputs": [
    {
     "data": {
      "application/vnd.jupyter.widget-view+json": {
       "model_id": "091528e2df1146cb9502751afe1e5c38",
       "version_major": 2,
       "version_minor": 0
      },
      "text/plain": [
       "NGLWidget(max_frame=40)"
      ]
     },
     "metadata": {},
     "output_type": "display_data"
    }
   ],
   "source": [
    "view"
   ]
  },
  {
   "cell_type": "code",
   "execution_count": 36,
   "id": "8a67f3b2-8b90-4ce5-9079-bf4e10e643d0",
   "metadata": {},
   "outputs": [
    {
     "data": {
      "image/png": "[encoded data removed]",
      "text/plain": [
       "<Figure size 432x288 with 1 Axes>"
      ]
     },
     "metadata": {
      "needs_background": "light"
     },
     "output_type": "display_data"
    }
   ],
   "source": [
    "import numpy as np\n",
    "import matplotlib.pyplot as plt\n",
    "\n",
    "kin = np.loadtxt('kinetic.data')\n",
    "plt.plot(kin[:,0],kin[:,1]);"
   ]
  },
  {
   "cell_type": "code",
   "execution_count": null,
   "id": "8e41aba2-89f2-49dd-bda8-1ebecbc35fb8",
   "metadata": {},
   "outputs": [],
   "source": []
  }
 ],
 "metadata": {
  "kernelspec": {
   "display_name": "Python 3 (ipykernel)",
   "language": "python",
   "name": "python3"
  },
  "language_info": {
   "codemirror_mode": {
    "name": "ipython",
    "version": 3
   },
   "file_extension": ".py",
   "mimetype": "text/x-python",
   "name": "python",
   "nbconvert_exporter": "python",
   "pygments_lexer": "ipython3",
   "version": "3.8.12"
  }
 },
 "nbformat": 4,
 "nbformat_minor": 5
}
