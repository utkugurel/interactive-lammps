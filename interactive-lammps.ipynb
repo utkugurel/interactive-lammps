{
 "cells": [
  {
   "cell_type": "markdown",
   "id": "ab4d7971-ec80-4cb2-88c1-6c1bc5856e0c",
   "metadata": {},
   "source": [
    "## Interactive lammps"
   ]
  },
  {
   "cell_type": "code",
   "execution_count": null,
   "id": "f5478910-34e0-4419-bd26-b741a495ac7b",
   "metadata": {},
   "outputs": [],
   "source": [
    "from lammps import PyLammps"
   ]
  },
  {
   "cell_type": "code",
   "execution_count": null,
   "id": "548244a8-68cf-4170-a259-c7fdff11437e",
   "metadata": {},
   "outputs": [],
   "source": [
    "L = PyLammps()"
   ]
  },
  {
   "cell_type": "markdown",
   "id": "7af24b13-5eb0-4b97-843c-c76ade5dde4c",
   "metadata": {},
   "source": [
    "####  SET SIMULATION CONDITIONS"
   ]
  },
  {
   "cell_type": "code",
   "execution_count": null,
   "id": "e97bbbfa-ea79-40e2-8944-b6b23f9bcd55",
   "metadata": {},
   "outputs": [],
   "source": [
    "L.command(\"units lj\")\n",
    "L.command(\"atom_style full\")\n",
    "L.command(\"pair_style lj/cut 2.5\")\n",
    "L.command(\"bond_style harmonic\")\n",
    "L.command(\"special_bonds fene\")\n",
    "\n",
    "L.command(\"dimension 3\")\n",
    "L.command(\"boundary p p p\")\n",
    "L.command(\"neighbor 0.8 bin\")"
   ]
  },
  {
   "cell_type": "code",
   "execution_count": null,
   "id": "89335ce7-cfca-46c3-8197-c2922f951a62",
   "metadata": {},
   "outputs": [],
   "source": [
    "L.command('read_data lipit.data')"
   ]
  },
  {
   "cell_type": "code",
   "execution_count": null,
   "id": "c05ecf3c-ec4f-4f1c-9fdb-0f9ffbe6c0cf",
   "metadata": {},
   "outputs": [],
   "source": [
    "L.command('change_box all boundary p p f')"
   ]
  },
  {
   "cell_type": "code",
   "execution_count": null,
   "id": "6b05af9f-b4b3-4090-986b-af184a3abab6",
   "metadata": {},
   "outputs": [],
   "source": [
    "L.command('change_box all z delta -40.0 20.0 units box')"
   ]
  },
  {
   "cell_type": "markdown",
   "id": "969ec2cb-9f25-40c8-811f-9e7c9183f4e4",
   "metadata": {},
   "source": [
    "####  DEFINE VARIABLES"
   ]
  },
  {
   "cell_type": "code",
   "execution_count": null,
   "id": "a3bd825f-0b28-4d4f-b57a-1ab007442cbc",
   "metadata": {},
   "outputs": [],
   "source": [
    "L.command('variable velocityBullet equal -2')\n",
    "L.command('variable radiusBullet equal 5')\n",
    "L.command('variable hBullet equal 5+${radiusBullet}')"
   ]
  },
  {
   "cell_type": "markdown",
   "id": "d69a10a8-ec77-43e7-9cc4-91d8beac874b",
   "metadata": {},
   "source": [
    "#### CHOOSE THERMODYNAMIC OUTPUT"
   ]
  },
  {
   "cell_type": "code",
   "execution_count": null,
   "id": "10c0e8cb-004d-44a9-afac-5ed212ae9527",
   "metadata": {},
   "outputs": [],
   "source": [
    "L.command('thermo  200')\n",
    "L.command('thermo_style    custom step temp press ebond epair ke')"
   ]
  },
  {
   "cell_type": "markdown",
   "id": "28a34f7f-016a-4169-b93e-620be1dd7d03",
   "metadata": {},
   "source": [
    "#### CLAMP BOUNDARIES OF THE FILM"
   ]
  },
  {
   "cell_type": "code",
   "execution_count": null,
   "id": "6b9a39b4-dd8e-46f5-9a62-ae6db973029d",
   "metadata": {},
   "outputs": [],
   "source": [
    "L.command('region hole cylinder z 0 0 20 -10.0 10.0 side in units box')\n",
    "L.command('group hole region hole')\n",
    "L.command('group film type 1 2')\n",
    "L.command('group base subtract film hole')\n",
    "\n",
    "L.command('fix nailed base setforce 0.0 0.0 0.0')\n",
    "L.command('velocity base set 0.0 0.0 0.0 units box')\n",
    "L.command('velocity hole create 0.1 239472')"
   ]
  },
  {
   "cell_type": "markdown",
   "id": "517628d8-7508-4be3-87b1-06158a938306",
   "metadata": {},
   "source": [
    "#### CREATE BULLET ABOVE THE FILM"
   ]
  },
  {
   "cell_type": "code",
   "execution_count": null,
   "id": "62498fc2-3458-4380-92db-18776bce8442",
   "metadata": {},
   "outputs": [],
   "source": [
    "L.command('lattice diamond 7.2')\n",
    "L.command('region 1 sphere 0 0 ${hBullet} ${radiusBullet} side in units box')\n",
    "L.command('create_atoms 3 region 1 units box')\n",
    "L.command('group indent type 3')\n",
    "L.command('neigh_modify exclude group indent indent')\n",
    "L.command('fix 1 indent rigid single')\n",
    "L.command('velocity indent set 0.0 0.0 -2 units box')"
   ]
  },
  {
   "cell_type": "markdown",
   "id": "06447a81-0431-4702-a835-2f076e6aa0c6",
   "metadata": {},
   "source": [
    "#### SHOOT!"
   ]
  },
  {
   "cell_type": "code",
   "execution_count": null,
   "id": "b267f891-ed24-4cd7-badf-c873af5cab58",
   "metadata": {},
   "outputs": [],
   "source": [
    "L.command('fix nve1 hole nve')\n",
    "L.command('compute stressA all stress/atom NULL')\n",
    "L.command('compute 1 indent ke')\n",
    "L.command('fix kin all ave/time 1 1 10 c_1 file kinetic.data')\n",
    "L.command('dump mydump all custom 200 Conf.dat id type x y z c_stressA[1] c_stressA[2] c_stressA[3]')\n",
    "L.command('dump_modify mydump sort id')\n",
    "L.command('run 8000')"
   ]
  },
  {
   "cell_type": "markdown",
   "id": "080961ab-f8db-4e97-a546-166daaf2b199",
   "metadata": {},
   "source": [
    "### Visualisation"
   ]
  },
  {
   "cell_type": "code",
   "execution_count": null,
   "id": "efc0a276-9d1d-44d9-bf5e-762136c23ba7",
   "metadata": {},
   "outputs": [],
   "source": [
    "import warnings\n",
    "warnings.filterwarnings('ignore', category=DeprecationWarning)\n",
    "warnings.filterwarnings('ignore', category=UserWarning)\n",
    "import nglview as nv\n",
    "import MDAnalysis as mda\n",
    "import numpy as np\n",
    "import matplotlib.pyplot as plt"
   ]
  },
  {
   "cell_type": "code",
   "execution_count": null,
   "id": "6d2b1967-ca45-4252-ae08-3c7b5d8fa086",
   "metadata": {},
   "outputs": [],
   "source": [
    "u = mda.Universe('Conf.dat',format='LAMMPSDUMP')\n",
    "atoms = u.atoms"
   ]
  },
  {
   "cell_type": "code",
   "execution_count": null,
   "id": "e039e85a-62c7-45c7-9542-20ba6f1ed0d5",
   "metadata": {},
   "outputs": [],
   "source": [
    "view = nv.show_mdanalysis(atoms)"
   ]
  },
  {
   "cell_type": "code",
   "execution_count": null,
   "id": "214da0cb-e0f3-4e9b-bd24-75bcdc165955",
   "metadata": {},
   "outputs": [],
   "source": [
    "view"
   ]
  },
  {
   "cell_type": "code",
   "execution_count": null,
   "id": "8a67f3b2-8b90-4ce5-9079-bf4e10e643d0",
   "metadata": {},
   "outputs": [],
   "source": [
    "kin = np.loadtxt('kinetic.data')\n",
    "time = 0.005*kin[:,0]\n",
    "vel = np.sqrt(2*kin[:,1]/3760.0)\n",
    "\n",
    "plt.figure(dpi=100)\n",
    "plt.plot(time,vel);\n",
    "plt.xlabel('Time');\n",
    "plt.ylabel(\"Velocity of the bullet\");"
   ]
  },
  {
   "cell_type": "code",
   "execution_count": null,
   "id": "0866f168",
   "metadata": {},
   "outputs": [],
   "source": []
  }
 ],
 "metadata": {
  "kernelspec": {
   "display_name": "Python 3 (ipykernel)",
   "language": "python",
   "name": "python3"
  },
  "language_info": {
   "codemirror_mode": {
    "name": "ipython",
    "version": 3
   },
   "file_extension": ".py",
   "mimetype": "text/x-python",
   "name": "python",
   "nbconvert_exporter": "python",
   "pygments_lexer": "ipython3",
   "version": "3.8.12"
  },
  "toc-showcode": false
 },
 "nbformat": 4,
 "nbformat_minor": 5
}
